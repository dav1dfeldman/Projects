{
 "cells": [
  {
   "cell_type": "code",
   "execution_count": 42,
   "metadata": {
    "collapsed": false
   },
   "outputs": [],
   "source": [
    "import pandas as pd\n",
    "import re\n",
    "import requests\n",
    "from bs4 import BeautifulSoup as bs\n",
    "import numpy as np\n",
    "import matplotlib.pyplot as plt\n",
    "%matplotlib inline"
   ]
  },
  {
   "cell_type": "code",
   "execution_count": 4,
   "metadata": {
    "collapsed": true
   },
   "outputs": [],
   "source": [
    "# make a list of search page urls\n",
    "unsearched_urls = []\n",
    "unsearched_urls.append('http://www.jamesaltucher.com/')\n",
    "for i in range(1,5):    \n",
    "    unsearched_urls.append('http://www.jamesaltucher.com/page/%d/' % i)"
   ]
  },
  {
   "cell_type": "code",
   "execution_count": 5,
   "metadata": {
    "collapsed": false
   },
   "outputs": [
    {
     "data": {
      "text/plain": [
       "['http://www.jamesaltucher.com/',\n",
       " 'http://www.jamesaltucher.com/page/1/',\n",
       " 'http://www.jamesaltucher.com/page/2/',\n",
       " 'http://www.jamesaltucher.com/page/3/',\n",
       " 'http://www.jamesaltucher.com/page/4/']"
      ]
     },
     "execution_count": 5,
     "metadata": {},
     "output_type": "execute_result"
    }
   ],
   "source": [
    "unsearched_urls"
   ]
  },
  {
   "cell_type": "code",
   "execution_count": 82,
   "metadata": {
    "collapsed": false
   },
   "outputs": [],
   "source": [
    "links = []\n",
    "for url in unsearched_urls:\n",
    "    request = requests.get(url, headers={'User-Agent': 'Mozilla/5.0'})\n",
    "    soup = bs(request.text) \n",
    "    re_search = 'http\\:\\/\\/www\\.jamesaltucher\\.com\\/\\d+\\/\\d+\\/[^ ]+?(?=\\/)'\n",
    "    links += re.findall(re_search, str(soup))\n",
    "links = set(links)"
   ]
  },
  {
   "cell_type": "code",
   "execution_count": 83,
   "metadata": {
    "collapsed": false
   },
   "outputs": [
    {
     "data": {
      "text/plain": [
       "36"
      ]
     },
     "execution_count": 83,
     "metadata": {},
     "output_type": "execute_result"
    }
   ],
   "source": [
    "len(links)"
   ]
  },
  {
   "cell_type": "code",
   "execution_count": 84,
   "metadata": {
    "collapsed": false
   },
   "outputs": [
    {
     "data": {
      "text/plain": [
       "{'http://www.jamesaltucher.com/2011/01/10-more-reasons-why-parents-should-not-send-their-kids-to-college',\n",
       " 'http://www.jamesaltucher.com/2011/01/8-alternatives-to-college',\n",
       " 'http://www.jamesaltucher.com/2011/02/10-unusual-things-i-didnt-know-about-steve-jobs',\n",
       " 'http://www.jamesaltucher.com/2011/03/why-i-am-never-going-to-own-a-home-again',\n",
       " 'http://www.jamesaltucher.com/2011/06/how-to-deal-with-crappy-people',\n",
       " 'http://www.jamesaltucher.com/2011/07/july-4th-is-a-scam',\n",
       " 'http://www.jamesaltucher.com/2011/08/i-want-to-die',\n",
       " 'http://www.jamesaltucher.com/2011/08/the-10-commandments-of-the-american-religion',\n",
       " 'http://www.jamesaltucher.com/2011/09/ten-scams-you-encounter-every-day',\n",
       " 'http://www.jamesaltucher.com/2012/01/self-publishing-your-own-book-is-the-new-business-card',\n",
       " 'http://www.jamesaltucher.com/2012/08/the-trillion-dollar-lies',\n",
       " 'http://www.jamesaltucher.com/2014/08/10-things-you-need-to-know-to-become-a-great-leader',\n",
       " 'http://www.jamesaltucher.com/2014/08/ok-one-quote-from-robin-williams',\n",
       " 'http://www.jamesaltucher.com/2014/08/the-worst-interview-ever-what-i-learned-from-it',\n",
       " 'http://www.jamesaltucher.com/2014/08/whats-it-like-to-lose-100000000-at-facebook',\n",
       " 'http://www.jamesaltucher.com/2014/09/can-you-do-one-page-a-day',\n",
       " 'http://www.jamesaltucher.com/2014/09/step-by-step-guide-to-make-10-million-and-then-totally-blow-it',\n",
       " 'http://www.jamesaltucher.com/2014/09/the-secrets-of-personal-finance',\n",
       " 'http://www.jamesaltucher.com/2014/10/life-is-like-a-game-heres-how-you-master-any-game',\n",
       " 'http://www.jamesaltucher.com/2014/10/the-idea-matrix-what-changed-everyones-life-after-choose-yourself',\n",
       " 'http://www.jamesaltucher.com/2014/11/10-things-i-learned-while-interviewing-tony-robbins-about-his-new-book-money',\n",
       " 'http://www.jamesaltucher.com/2014/11/21-or-22-yet-even-more-amazing-tips-to-be-a-better-writer',\n",
       " 'http://www.jamesaltucher.com/2014/11/nothing-is-wrong-with-you',\n",
       " 'http://www.jamesaltucher.com/2014/12/who-is-in-your-scene',\n",
       " 'http://www.jamesaltucher.com/2015/01/faq-on-how-to-become-an-idea-machine',\n",
       " 'http://www.jamesaltucher.com/2015/01/what-i-learned-about-life-after-interviewing-80-highly-successful-people',\n",
       " 'http://www.jamesaltucher.com/2015/02/10-things-i-learn-from-richard-branson',\n",
       " 'http://www.jamesaltucher.com/2015/02/the-ultimate-guide-to-making-a-personal-manifesto',\n",
       " 'http://www.jamesaltucher.com/2015/02/what-i-learned-from-my-first-podcast-guest-in-1980-and-what-i-learned-from-my-last-podcast-guest-yesterday',\n",
       " 'http://www.jamesaltucher.com/2015/03/dont-run-over-a-baby-in-the-middle-of-the-street',\n",
       " 'http://www.jamesaltucher.com/2015/03/the-ten-worst-things-you-can-do-in-a-negotiation',\n",
       " 'http://www.jamesaltucher.com/2015/03/the-ultimate-guide-to-changing-your-life',\n",
       " 'http://www.jamesaltucher.com/2015/04/how-to-become-a-jedi-knight-2',\n",
       " 'http://www.jamesaltucher.com/2015/05/its-ok-if-you-dont',\n",
       " 'http://www.jamesaltucher.com/2015/06/how-to-be-a-bad-leader',\n",
       " 'http://www.jamesaltucher.com/2015/06/the-six-things-the-most-productive-people-do-every-day'}"
      ]
     },
     "execution_count": 84,
     "metadata": {},
     "output_type": "execute_result"
    }
   ],
   "source": [
    "links"
   ]
  },
  {
   "cell_type": "code",
   "execution_count": null,
   "metadata": {
    "collapsed": true
   },
   "outputs": [],
   "source": []
  }
 ],
 "metadata": {
  "kernelspec": {
   "display_name": "Python 2",
   "language": "python",
   "name": "python2"
  },
  "language_info": {
   "codemirror_mode": {
    "name": "ipython",
    "version": 2
   },
   "file_extension": ".py",
   "mimetype": "text/x-python",
   "name": "python",
   "nbconvert_exporter": "python",
   "pygments_lexer": "ipython2",
   "version": "2.7.10"
  }
 },
 "nbformat": 4,
 "nbformat_minor": 0
}
